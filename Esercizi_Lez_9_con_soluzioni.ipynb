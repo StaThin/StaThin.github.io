{
  "nbformat": 4,
  "nbformat_minor": 0,
  "metadata": {
    "colab": {
      "name": "Esercizi Lez 9 con soluzioni.ipynb",
      "provenance": [],
      "collapsed_sections": [],
      "authorship_tag": "ABX9TyNK7jhZPGbbz+xWoCT8O8P0",
      "include_colab_link": true
    },
    "kernelspec": {
      "name": "ir",
      "display_name": "R"
    }
  },
  "cells": [
    {
      "cell_type": "markdown",
      "metadata": {
        "id": "view-in-github",
        "colab_type": "text"
      },
      "source": [
        "<a href=\"https://colab.research.google.com/github/StaThin/StaThin.github.io/blob/master/Esercizi_Lez_9_con_soluzioni.ipynb\" target=\"_parent\"><img src=\"https://colab.research.google.com/assets/colab-badge.svg\" alt=\"Open In Colab\"/></a>"
      ]
    },
    {
      "cell_type": "markdown",
      "metadata": {
        "id": "_SvwDQayHbVx",
        "colab_type": "text"
      },
      "source": [
        "# Esercizi Lezione  9 - Test statistici\n",
        "\n"
      ]
    },
    {
      "cell_type": "markdown",
      "metadata": {
        "id": "Ku2HNImYE5wP",
        "colab_type": "text"
      },
      "source": [
        "## Esercizio 1\n",
        "\n",
        "Sia $\\mu$ il reddito medio annuo in migliaia di Euro per una certa popolazione che si suppone normale. Si estrae un campione i.i.d. di 100 individui dalla popolazione e si ottiene una media di 22.5 (migliaia di Euro) e una varianza campionaria $S^2 =  12.5$. Sottoponete a test l'ipotesi $H_0 : \\mu =  22$  contro $H_1 : \\mu > 22$. \n",
        "\n",
        "a. Definite una statistica test opportuna e calcolate il valore p. Commentate  e interpretate. \n",
        "\n",
        "b. Se l'assunzione di normalità non potesse essere fatta che cosa potreste concludere?\n",
        "\n",
        "\n",
        "\n",
        "#### Soluzione\n",
        "\n",
        "a. La statistica test osservata  è \n",
        "$$\n",
        "t_{oss} = \\frac{22.5 - 22}{\\sqrt{12.5/100}} = 1.4142\n",
        "$$\n",
        "Poiché l'alternativa scelta è unilaterale destra il valore p è \n",
        "$$\n",
        "p_{oss}  = P_0\\{ T_{99} \\ge 1.4142\\} = 0.080.\n",
        "$$\n",
        "Il test non è significativo e non c'è evidenza sufficiente per rifiutare l'ipotesi $\\mu = 22$. \n",
        "\n",
        "b. Se l'assunzione di normalità non è opportuna è comunque possibile usare l'approssimazione normale per grandi campioni per la statistica test $T$. Quindi \n",
        "$$\n",
        "p_{oss}  \\simeq  P_0\\{ Z  \\ge 1.4142\\} = 0.079.\n",
        "$$\n",
        "\n",
        "## Esercizio 2 \n",
        " In un esperimento 16 topi sono suddivisi casualmente in 2 gruppi: un gruppo di animali trattati con un farmaco e un gruppo di controllo di animali non trattati. Il trattamento serve per prolungare la sopravvivenza dei topi dopo un'operazione. Al termine dell'esperimento si studia il numero di giorni di sopravvivenza dei topi.\n",
        "\n",
        " L'obiettivo dell'esperimento è quello di valutare se il trattamento prolunga il tempo di sopravvivenza.\n"
      ]
    },
    {
      "cell_type": "code",
      "metadata": {
        "id": "1WDwNLfvN4Aw",
        "colab_type": "code",
        "colab": {}
      },
      "source": [
        "tratt = c(94,197,16, 38, 99, 141, 23)\n",
        "contr = c(52, 104, 146, 10, 51, 30, 40, 27, 46)"
      ],
      "execution_count": 0,
      "outputs": []
    },
    {
      "cell_type": "markdown",
      "metadata": {
        "id": "2Fb2X4TiOcoe",
        "colab_type": "text"
      },
      "source": [
        "Supponiamo che i dati siano due campioni i.i.d indipendenti da due distribuzioni esponenziali di medie $\\mu_1$ e $\\mu_2$.  Definite un modello opportuno e sottoponete a test l'ipotesi \n",
        "$H_0: \\mu_1 = \\mu_2$ con un alternativa $\\mu_1 > \\mu_2$ usando il test del rapporto di verosimiglianza. Determinate una statistica test opportuna e interpretate il valore $p$.\n",
        "\n",
        "\n",
        "### Soluzione\n",
        "\n",
        "Chiamiamo $y = (y_1, \\dots, y_7, y_8, \\dots, y_{16})$ il vettore che concatena `tratt` e `contr`. \n",
        "Il modello specificato ha verosimiglianza congiunta\n",
        "$$\n",
        "L(\\mu_1, \\mu_2) = \\prod_{i=1}^7 \\frac{1}{\\mu_1} e^{\\frac{y_i}{\\mu_1}}  \\prod_{i=8}^{16} \\frac{1}{\\mu_2} e^{\\frac{y_i}{\\mu_1}}\n",
        "$$\n",
        "Da cui si ottiene la log-verosimiglianza\n",
        "$$\n",
        "\\ell(\\mu_1, \\mu_2) = (-7 \\log \\mu_1 - 7 \\frac{\\bar y_1}{\\mu_1}) +   (-9 \\log \\mu_2 - 9 \\frac{\\bar y_2}{\\mu_2})\n",
        "$$\n",
        "dove $\\bar y_1$ e $\\bar y_2$ sono i valori medi dei due campioni. \n",
        "\n",
        "Una statistica test opportuna è la statistica del log-rapporto di verosimiglianza profilo\n",
        "$$\n",
        "W_P = 2 \\{ \\ell(\\hat \\mu_1, \\hat \\mu_2) - \\ell(\\tilde \\mu, \\tilde \\mu)\\}\n",
        "$$\n",
        "dove $\\hat \\mu_1, \\hat \\mu_2$ sono le stime di MV non vincolate e \n",
        "$\\tilde \\mu$ è la stima di MV vincolata sotto l'ipotesi che $\\mu_1 = \\mu_2$. Le stime non vincolate date l'indipendenza dei due campioni sono le due medie campionarie $\\hat \\mu_1 = \\bar y_1$ e $\\hat \\mu_2 = \\bar y_2$; la stima vincolata assumendo che $\\mu_1 = \\mu_2$ è la media aritmetica complessiva \n",
        "$$\n",
        "\\tilde \\mu = \\bar y = (7 \\bar y_1 + 9 \\bar y_2)/16.\n",
        "$$\n",
        "Quindi la statistica copo qualche manipolazione risulta\n",
        "$$\n",
        "W_P = 2 \\{ 16 \\log \\bar y - 7 \\log \\bar y_1 - 9 \\log \\bar y_2\\}\n",
        "$$\n",
        "e poiché $\\bar y  = 69.625$, $\\bar y_1 = 86.8571$ e $\\bar y_2 = 56.2222$ risulta\n",
        "$$\n",
        "w_{oss} = 0.7526\n",
        "$$\n",
        "La teoria afferma allora che essendo il modello esponenziale un modello con verosimiglianza regolare, sotto $H_0 \\mu_1 = \\mu_2$ la distribuzione di $W_P$ ha una legge limite $\\chi^2_1$ per $n\\to \\infty$. Quindi il valore p risulta\n",
        "$$\n",
        "p_{oss} = P_0\\{\\chi^2_1 \\ge 0.7526\\} = 0.3856.\n",
        "$$  \n",
        "Pertanto il test non indica una differnza significativa tra le medie del gruppo dei trattati e dei controlli. \n",
        "\n",
        "Tuttavia per questo test è abbastanza discutibile se con 16 osservazioni l'approssimazione chi-quadro è adeguata."
      ]
    },
    {
      "cell_type": "markdown",
      "metadata": {
        "id": "f9UrWUqgPsCU",
        "colab_type": "text"
      },
      "source": [
        "## Esercizio 3  (solo per Matematica)\n",
        "\n",
        "Il valore $p$ può essere scritto come\n",
        "$$\n",
        "p_{oss} = 1 - F_0(d_{oss})\n",
        "$$\n",
        "dove $d_{oss}$ è il valore osservato della statistica test $D$ e $F_0$ è la funzione di ripertizione (che supponiamo continua) della statistica test sotto ipotesi nulla. \n",
        "\n",
        "Considerate il valore $p$ nel campionamento ripetuto, cioè la variabile aleatoria\n",
        "$$\n",
        "P  = 1 - F_0(D). \n",
        "$$\n",
        "a. Qual è la distribuzione sotto ipotesi nulla della variabile aleatoria $P$?\n",
        "\n",
        "\n",
        "### Soluzione\n",
        "\n",
        "Sotto ipotesi nulla la funzione di ripartizione di $P$ è, per \n",
        "$0\\le u \\le 1$,  \n",
        "\\begin{align*}\n",
        "\\Pr_{0}\\{1 - F_0(D) \\le u \\}  &= \\Pr_0\\{ 1 - u \\le F_0(D)\\}\\\\\n",
        "&= \\Pr_0 \\{F_0^{-1}(1-u) \\le D\\}\\\\\n",
        "&= \\Pr_0 \\{D \\ge F_0^{-1}(1-u) \\} \\\\\n",
        "&= 1 - \\Pr_0 \\{D \\le F_0^{-1}(1-u) \\}\\\\\n",
        "&= 1 - F_0\\{  F_0^{-1}(1-u) \\} = u.\n",
        "\\end{align*}\n",
        "Si conclude che $P$ ha distribuzione uniforme tra $0$ e $1$. "
      ]
    },
    {
      "cell_type": "markdown",
      "metadata": {
        "id": "AEFbR6yah7YY",
        "colab_type": "text"
      },
      "source": [
        "## Esercizio 4\n",
        "\n",
        "Abbiamo raccolto dati sul prezzo $X$ (in euro) dell'hamburger e \n",
        "sulla quantità  $Y$ venduta in due giorni, in 12 punti vendita. \n",
        "I dati vengono sintetizzati con le seguente misure.\n",
        "$$\n",
        "\\begin{matrix}\n",
        "\\Sigma x_iy_i = 32709.2 & \\Sigma x_i =  35.9 & \\Sigma y_i = 11090\\\\\n",
        "\\Sigma x_i^2 =  108.13  & \\Sigma y^2_i = 10584612 & \\\\\n",
        "\\end{matrix}\n",
        "$$\n",
        "\n",
        "a. Stimare la retta di regressione e interpretarla. \n",
        "\n",
        "b. Trovare la devianza residua e l'errore standard stimato  $\\widehat{se}(\\hat \\beta_1)$. \n",
        "\n",
        "c. Sottoporre a test l'ipotesi $\\beta_1 = 0$. \n",
        "\n",
        "d. Mostrare la tavola di analisi della varianza e calcolare la statistica test $F$.  \n",
        "\n",
        "\n",
        "### Soluzione\n",
        "\n",
        "a. Il sistema di equazioni normali è $(C^TC)\\beta = C^T y$ ossia\n",
        "\\begin{align*}\n",
        "\\textstyle \\beta_0\\, n   +  \\beta_1 \\sum x_i &= \\textstyle \\sum y_i \\\\\n",
        "\\textstyle \\beta_0 \\sum x_i + \\beta_1 \\sum x_i^2 &= \\textstyle \\sum x_i y_i\\\\\n",
        "\\end{align*}\n",
        "Sostituendo \n",
        "\\begin{align*}\n",
        "12 \\beta_0   +   35.9\\beta_1 &= 11090 \\\\\n",
        " 35.9\\beta_0  +  108.13\\beta_1 &= 32709.2\\\\\n",
        "\\end{align*}\n",
        "Risolvendo si ottiene \n",
        "$$\n",
        "\\hat \\beta_0 =  2845.88, \\; \\hat \\beta_1 =  -642.35\n",
        "$$\n",
        "Il coefficiente di regressione inidca che all'aumentare del prezzo di 10 centesimi il numero di hamburger venduti nei due giorni cala di circa 64.2. \n",
        "\n",
        "b. La devianza residua è \n",
        "$$\n",
        "y^T(I - H) y = y^T y - y C(C^TC)^{-1}C^T y = y^Ty - y^T C \\hat \\beta\n",
        "$$\n",
        "cioè \n",
        "$$\n",
        "10584612 - \\begin{pmatrix}\n",
        "11090 & 32709.2\\end{pmatrix}\\begin{pmatrix} \n",
        " 2845.88\\\\\n",
        "  -642.35\n",
        "  \\end{pmatrix} = 34735.62\n",
        "$$\n",
        "e quindi la stima della varianza è \n",
        "$$\n",
        "S^2_{res} = 34735.62/(12-2) = 3473.562\n",
        "$$\n",
        "e della deviazione standard è \n",
        "$$\n",
        "S_{res} = \\sqrt{3473.562} = 58.94 \n",
        "$$\n",
        "La stima dell'errore standard di $\\hat \\beta_1$ è \n",
        "$$\n",
        "\\widehat{se}(\\hat \\beta_1) = \\frac{S_{res}}{\\sqrt{\\sum_i(x_i - \\bar x)^2}}\n",
        "$$\n",
        "che si calcola prima deducendo \n",
        "$$\n",
        "\\sum_i(x_i - \\bar x)^2 = \\sum_i x_i^2 - n \\bar x^2 = 108.13 - 12 (35.9/12)^2 = 0.7292  \n",
        "$$\n",
        "e quindi \n",
        "$$\n",
        "\\widehat{se}(\\hat \\beta_1)  = \\frac{58.94}{\\sqrt{0.7292}}= 69.023.\n",
        "$$\n",
        "c. Il test t è\n",
        "$$\n",
        "t = \\frac{\\hat\\beta_1}{\\widehat{se}(\\hat \\beta_1)} = \n",
        "\\frac{-642.35}{69.023} = -9.3.\n",
        "$$\n",
        "Il test è altamente significativo con un valore p\n",
        "$$\n",
        "p_{oss} = 2 P_0(t_{10} \\ge 9.3) < 0.00001\n",
        "$$\n",
        "d. La tavola di analisi della varianza si ottiene calcolando \n",
        "la devianza totale\n",
        "$$\n",
        "SS_{Y} = \\sum_i(y_i - \\bar y)^2 = \\sum_i y_i^2 - n \\bar y^2 = \n",
        "10584612 - 12 (11090/12)^2 = 335603.67\n",
        "$$ \n",
        "e la devianza di regressione\n",
        "$$\n",
        "SS_{\\hat Y} = SS_Y - SS_{res} = 335603.67 - 34735.62 = \n",
        "300868.05\n",
        "$$\n",
        "Tavola di analisi della varianza\n",
        "$$\n",
        "\\begin{array}{lrrrrr}\n",
        "Variabilità & SS        & g.l.  & MS        & F     & p  \\\\\\hline \n",
        "Spiegata    & 300868.05 & 1     & 300868.05 & 86.62 &  < 0.00001  \\\\\n",
        "Residua     &  34735.62 & 10    &   3473.56 &       &    \\\\ \\hline\n",
        "Totale      & 335603.67 & 11    &           &       &    \\\\\n",
        "\\end{array}\n",
        "$$\n",
        "Il test F è identico al quadrato del test t di Student. L'$R^2$ è \n",
        "$$\n",
        "R^2  = 0.896.\n",
        "$$\n",
        "\n",
        "\n",
        "## Esercizio 5\n",
        "\n",
        "(Freedman)\n",
        "\n",
        "Considerate il modello di regressione $Y_i = \\alpha + \\beta x_i + \\epsilon_i$ con $\\epsilon_i$ i.i.d. e normali $N(0, \\sigma^2)$. \n",
        "\n",
        "Supponiamo che la teoria sottostante al problema ci suggerisca di sottoporre a test l'ipotesi $\\beta=1$. Si adatta il modello ai dati per $ i=1,\\dots,52$  col metodo dei minimi quadrati ottenendo $\\hat \\beta = 1.765$ con errore standard $\\widehat{se} = 0.375$. \n",
        "\n",
        "Rispondere vero o falso alle domande seguenti e giustificare.\n",
        "\n",
        "a. La statistica test per sottoporre a verifica $\\beta=1$  è $t = 2.04$.\n",
        "\n",
        "b. Il test di $\\beta = 1$ è significativo.\n",
        "\n",
        "c. Il test $\\beta = 1$ è altamente significativo.\n",
        "\n",
        "d. La probabilità che $\\beta$ sia diverso da 1  è circa il $95\\%$.\n",
        "\n",
        "e. La probabilità che $\\beta$ sia uguale a 1  è circa il $5\\%$.\n",
        "\n",
        "f. Se il modello è giusto e $\\beta=1$  vi è circa il $5\\%$ di probabilità di ottenere $|\\hat\\beta/\\widehat{se}| > 2$.\n",
        "\n",
        "g. Se il modello è giusto e $\\beta=1$  vi è circa il $95\\%$ di probabilità di ottenere $|\\hat\\beta/\\widehat{se}| < 2$.\n",
        "\n",
        "h. Il test dimostra che il modello teorico è giusto.\n",
        "\n",
        "i. Il test assume che il modello teorico sia giusto.\n",
        "\n",
        "l. Se il modello è giusto, il test fornisce evidenza che $\\beta=1$.\n",
        "\n",
        "### Soluzione\n",
        "\n",
        "a. Sì. la statistica test osservata è \n",
        "$$\n",
        "t_{oss} = \\frac{1.765 - 1}{0.375} = 2.04\n",
        "$$\n",
        "Sotto ipotesi nulla è un'osservazione da una t di Student con 50 gradi di libertà.\n",
        "\n",
        "b. Il valore p è (vedi i conti in R)\n",
        "$$\n",
        "p_{oss} =\\textstyle  2\\Pr_0 \\{t_{50} \\ge 2.04 \\} = 0.047 \n",
        "$$\n",
        "Quindi il test è significativo\n",
        "\n",
        "c. ma non altamente significativo. \n",
        "\n",
        "d. No. Non si può calcolare tale probabilità perché $\\beta$ è un parametro.\n",
        "\n",
        "e. idem.\n",
        "\n",
        "f. Vero. \n",
        "\n",
        "g. Vero.\n",
        "\n",
        "h. Falso. Il test suppone che il modello sia giusto. \n",
        "\n",
        "i. Vero. \n",
        "\n",
        "l. Falso. Se il modello è giusto, il test fornisce evidenza che $\\beta\\ne 1$. Il test assume il  modello $Y_i = \\alpha + \\beta x_i + \\epsilon_i$, con le annesse ipotesi sugli errori. \n",
        "Il test si chiede se $\\beta = 1$ o $\\beta \\ne 1$. L'ipotesi  $\\beta= 1$ non è conforme ai dati come l'ipotesi alternativa.\n",
        "\n",
        "\n"
      ]
    },
    {
      "cell_type": "code",
      "metadata": {
        "id": "fTy1lC0US7yc",
        "colab_type": "code",
        "outputId": "0637cf3a-43cc-4ec7-eaaa-f06cbb28171f",
        "colab": {
          "base_uri": "https://localhost:8080/",
          "height": 34
        }
      },
      "source": [
        "2*(1-pt(2.04, 50))  # valore p "
      ],
      "execution_count": 2,
      "outputs": [
        {
          "output_type": "display_data",
          "data": {
            "text/plain": [
              "[1] 0.04665043"
            ],
            "text/latex": "0.0466504345456875",
            "text/markdown": "0.0466504345456875",
            "text/html": [
              "0.0466504345456875"
            ]
          },
          "metadata": {
            "tags": []
          }
        }
      ]
    },
    {
      "cell_type": "markdown",
      "metadata": {
        "id": "n7DJk5Gap2wR",
        "colab_type": "text"
      },
      "source": [
        "## Esercizio 6 (solo per Informatica)\n",
        "\n",
        "I dati seguenti mostrano la variabile `y`= massimo livello del mare in cm a Venezia negli anni `x` dal 1931 al 1981."
      ]
    },
    {
      "cell_type": "code",
      "metadata": {
        "id": "8V4RBdAHq91y",
        "colab_type": "code",
        "colab": {}
      },
      "source": [
        "y = c(103, 78, 121, 116, 115, 147, 119, 114, 89, 102, 99, 91, 97, \n",
        "106, 105, 136, 126, 132, 104, 117, 151, 116, 107, 112, 97, 95, \n",
        "119, 124, 118, 145, 122, 114, 118, 107, 110, 194, 138, 144, 138, \n",
        "123, 122, 120, 114, 96, 125, 124, 120, 132, 166, 134, 138)\n",
        "anni = c(1931, 1932, 1933, 1934, 1935, 1936, 1937, 1938, 1939, 1940, \n",
        "1941, 1942, 1943, 1944, 1945, 1946, 1947, 1948, 1949, 1950, 1951, \n",
        "1952, 1953, 1954, 1955, 1956, 1957, 1958, 1959, 1960, 1961, 1962, \n",
        "1963, 1964, 1965, 1966, 1967, 1968, 1969, 1970, 1971, 1972, 1973, \n",
        "1974, 1975, 1976, 1977, 1978, 1979, 1980, 1981)"
      ],
      "execution_count": 0,
      "outputs": []
    },
    {
      "cell_type": "markdown",
      "metadata": {
        "id": "sAbcCElrtYis",
        "colab_type": "text"
      },
      "source": [
        "a. Determinare la retta stimata di regressione lineare semplice. Usare come variabile esplicativa la variabile  `anni` espressa in unità di scarti ripetto all'anno 1956.   \n",
        "\n",
        "b. Fornite la tabella completa  delle stime dei parametri e della loro incertezza e interpretarle. \n",
        "\n",
        "c. Produrre la tavola di analisi della varianza. Calcolare l'indice di determinazione lineare e la statistica test F.\n",
        "\n",
        "d. Effettuare il test di nullità della pendenza. \n",
        "\n",
        "e. Quale spiegazione potete dare del fenomeno che questi dati mettono in evidenza?\n",
        "\n",
        "### Soluzione\n",
        "\n"
      ]
    },
    {
      "cell_type": "code",
      "metadata": {
        "id": "qQJCnC1FdULH",
        "colab_type": "code",
        "outputId": "80b1a016-f9bf-4494-bf72-94693acd7de8",
        "colab": {
          "base_uri": "https://localhost:8080/",
          "height": 442
        }
      },
      "source": [
        "summary(cbind(y, anni))\n",
        "mod = lm(y ~ anni)\n",
        "summary(mod)"
      ],
      "execution_count": 4,
      "outputs": [
        {
          "output_type": "display_data",
          "data": {
            "text/plain": [
              "       y              anni     \n",
              " Min.   : 78.0   Min.   :1931  \n",
              " 1st Qu.:106.5   1st Qu.:1944  \n",
              " Median :118.0   Median :1956  \n",
              " Mean   :119.6   Mean   :1956  \n",
              " 3rd Qu.:129.0   3rd Qu.:1968  \n",
              " Max.   :194.0   Max.   :1981  "
            ]
          },
          "metadata": {
            "tags": []
          }
        },
        {
          "output_type": "display_data",
          "data": {
            "text/plain": [
              "\n",
              "Call:\n",
              "lm(formula = y ~ anni)\n",
              "\n",
              "Residuals:\n",
              "    Min      1Q  Median      3Q     Max \n",
              "-33.813 -11.211  -3.309   9.515  68.722 \n",
              "\n",
              "Coefficients:\n",
              "             Estimate Std. Error t value Pr(>|t|)   \n",
              "(Intercept) -989.3822   346.4770  -2.856  0.00628 **\n",
              "anni           0.5670     0.1771   3.201  0.00241 **\n",
              "---\n",
              "Signif. codes:  0 ‘***’ 0.001 ‘**’ 0.01 ‘*’ 0.05 ‘.’ 0.1 ‘ ’ 1\n",
              "\n",
              "Residual standard error: 18.62 on 49 degrees of freedom\n",
              "Multiple R-squared:  0.1729,\tAdjusted R-squared:  0.1561 \n",
              "F-statistic: 10.25 on 1 and 49 DF,  p-value: 0.002406\n"
            ]
          },
          "metadata": {
            "tags": []
          }
        }
      ]
    },
    {
      "cell_type": "markdown",
      "metadata": {
        "id": "gNYVs4rkiOpZ",
        "colab_type": "text"
      },
      "source": [
        "a. L'equazione stimata è \n",
        "$$\n",
        "\\hat y = 119.6 + 0.567 \\, (anno - 1956)   \n",
        "$$\n",
        "Lo scatter è il seguente\n"
      ]
    },
    {
      "cell_type": "code",
      "metadata": {
        "id": "9cOXnp53iiB-",
        "colab_type": "code",
        "outputId": "91cf951d-7352-4a2d-fe9b-51cd820aab9b",
        "colab": {
          "base_uri": "https://localhost:8080/",
          "height": 437
        }
      },
      "source": [
        "plot(y ~ anni)\n",
        "abline(mod, col = 'RoyalBlue', lwd=3)"
      ],
      "execution_count": 5,
      "outputs": [
        {
          "output_type": "display_data",
          "data": {
            "image/png": "[encoded data removed]",
            "text/plain": [
              "plot without title"
            ]
          },
          "metadata": {
            "tags": [],
            "image/png": {
              "width": 420,
              "height": 420
            },
            "text/plain": {
              "width": 420,
              "height": 420
            }
          }
        }
      ]
    },
    {
      "cell_type": "markdown",
      "metadata": {
        "id": "yxH3ckwddn0Y",
        "colab_type": "text"
      },
      "source": [
        "b. La tabella delle stime è la seguente\n",
        "$$\n",
        "\\begin{array}{lrrrr}\n",
        "        &      Stima & e.s.       & t      & p  \\\\ \\hline   \n",
        "(cost)  &   -989.382 &  346.4770 & - & - \\\\\n",
        "anni    &      0.567 &    0.1771 &  3.201 & 0.00241 \\\\ \\hline\n",
        "s_{res} & 18.62      &   R^2 = 0.17  &   &         \\\\\n",
        "\\end{array}\n",
        "$$\n",
        "Quindi il livello massimo misurato cresce circa mezzo cm all'anno. La pendenza è significativamente diversa da zero.\n",
        "\n",
        "L'intervallo di confidenza per la pendenza è $(0.21, 0.92)$ e non comprende lo zero. \n",
        "\n"
      ]
    },
    {
      "cell_type": "code",
      "metadata": {
        "id": "0ykl_ctMh6oH",
        "colab_type": "code",
        "outputId": "db0bfdfc-fd01-483b-cf57-6f9bd446f720",
        "colab": {
          "base_uri": "https://localhost:8080/",
          "height": 34
        }
      },
      "source": [
        "confint(mod)[2,]"
      ],
      "execution_count": 6,
      "outputs": [
        {
          "output_type": "display_data",
          "data": {
            "text/plain": [
              "    2.5 %    97.5 % \n",
              "0.2110114 0.9229253 "
            ],
            "text/latex": "\\begin{description*}\n\\item[2.5 \\textbackslash{}\\%] 0.211011357051313\n\\item[97.5 \\textbackslash{}\\%] 0.922925294532396\n\\end{description*}\n",
            "text/markdown": "2.5 %\n:   0.21101135705131397.5 %\n:   0.922925294532396\n\n",
            "text/html": [
              "<style>\n",
              ".dl-inline {width: auto; margin:0; padding: 0}\n",
              ".dl-inline>dt, .dl-inline>dd {float: none; width: auto; display: inline-block}\n",
              ".dl-inline>dt::after {content: \":\\0020\"; padding-right: .5ex}\n",
              ".dl-inline>dt:not(:first-of-type) {padding-left: .5ex}\n",
              "</style><dl class=dl-inline><dt>2.5 %</dt><dd>0.211011357051313</dd><dt>97.5 %</dt><dd>0.922925294532396</dd></dl>\n"
            ]
          },
          "metadata": {
            "tags": []
          }
        }
      ]
    },
    {
      "cell_type": "markdown",
      "metadata": {
        "id": "0CCA2MDVi3Lp",
        "colab_type": "text"
      },
      "source": [
        "c. La tavola di analisi della varianza è la seguente"
      ]
    },
    {
      "cell_type": "code",
      "metadata": {
        "id": "6zjwZdBvi8hi",
        "colab_type": "code",
        "outputId": "e80bac24-3db7-4d04-c321-b6914adfed52",
        "colab": {
          "base_uri": "https://localhost:8080/",
          "height": 34
        }
      },
      "source": [
        "SSY = sum((y - mean(y))^2)\n",
        "SSres = deviance(mod)\n",
        "SSreg = SSY - SSres\n",
        "c(SSreg, SSres, SSY)"
      ],
      "execution_count": 7,
      "outputs": [
        {
          "output_type": "display_data",
          "data": {
            "text/plain": [
              "[1]  3552.057 16988.100 20540.157"
            ],
            "text/latex": "\\begin{enumerate*}\n\\item 3552.05656108597\n\\item 16988.1003016591\n\\item 20540.1568627451\n\\end{enumerate*}\n",
            "text/markdown": "1. 3552.05656108597\n2. 16988.1003016591\n3. 20540.1568627451\n\n\n",
            "text/html": [
              "<style>\n",
              ".list-inline {list-style: none; margin:0; padding: 0}\n",
              ".list-inline>li {display: inline-block}\n",
              ".list-inline>li:not(:last-child)::after {content: \"\\00b7\"; padding: 0 .5ex}\n",
              "</style>\n",
              "<ol class=list-inline><li>3552.05656108597</li><li>16988.1003016591</li><li>20540.1568627451</li></ol>\n"
            ]
          },
          "metadata": {
            "tags": []
          }
        }
      ]
    },
    {
      "cell_type": "markdown",
      "metadata": {
        "id": "8wknD2irj5mo",
        "colab_type": "text"
      },
      "source": [
        "\\begin{array}{lrrrrr}\n",
        "Variabilità &  SS       & g.l.  & MS       & F     & p \\\\ \\hline\n",
        "spiegata    &   3552.06 &  1    & 3552.06  & 10.25 & 0.00241\\\\\n",
        "residua     &  16988.10 & 49    &  346.70  &   \\\\ \\hline\n",
        "Totale      &  20540.16 & 50    &    -     &   \\\\ \n",
        "\\end{array}\n",
        "\n",
        "d. L'indice di determinazione lineare è $R^2 = 0.17$. Il test F è $f_{oss} = 10.25$ sotto $H_0$ è una realizzazione di una $F_{1,49}$.  Il test è altamente significativo ed equivalente al test t di Student visto prima. \n",
        "\n",
        "e. Molto probabilmente l'effetto sul livello del mare  non dipende dall'innalzamento delle acque dell'Adriatico, ma all'abbassamento del terreno dove è fissato il palo che serve per misurare l'altezza dell'acqua. "
      ]
    },
    {
      "cell_type": "markdown",
      "metadata": {
        "id": "LtWO0wfXDbbA",
        "colab_type": "text"
      },
      "source": [
        "## Esercizio 7\n",
        "\n",
        "Si vuole verificare se una moneta è bilanciata. Sia $\\theta$ la probabilità di testa in un lancio. Si voglia sottoporre a test $H_0: \\theta = 1/2$ contro un'alternativa bilaterale. \n",
        "Si lancia la moneta $10$ volte. Sia $Y_i = 1$ se esce testa e $X_i = 0$ se esce croce. Sia $T = \\sum_{i=1}^{10} Y_i$ la statistica test. Considerate le regioni critiche\n",
        "$$\n",
        "K_1 = \\{ Y : | T - 5 | \\ge 4\\} , \\quad \n",
        "K_1 = \\{ Y : | T - 5 | \\ge 3\\}.\n",
        "$$\n",
        "a. Calcolare la probabilità di errore del I tipo  per $K_1$ e $K_2$.\n",
        "\n",
        "b. Calcolare la  probabilità di errore del II tipo  per $K_1$ e $K_2$ se $\\theta = 0.4$.\n",
        "\n",
        "\n",
        "### Soluzione\n",
        "\n",
        "a. La probabilità di errore del I tipo per $K_1$\n",
        "$$\n",
        "\\Pr\\{   | T - 5 | \\ge 4 ; T \\sim Bi(10, \\theta = 1/2)\\} = \\Pr_{0.5}\\{T = 0,1,9,10\\} = 0.0215\n",
        "$$\n"
      ]
    },
    {
      "cell_type": "code",
      "metadata": {
        "id": "FbnIRuU6JBic",
        "colab_type": "code",
        "outputId": "e507f235-b88a-430b-c4b6-ce500d9c19d6",
        "colab": {
          "base_uri": "https://localhost:8080/",
          "height": 34
        }
      },
      "source": [
        "sum(dbinom(c(0,1,9,10), size = 10, prob = 1/2))"
      ],
      "execution_count": 8,
      "outputs": [
        {
          "output_type": "display_data",
          "data": {
            "text/plain": [
              "[1] 0.02148438"
            ],
            "text/latex": "0.021484375",
            "text/markdown": "0.021484375",
            "text/html": [
              "0.021484375"
            ]
          },
          "metadata": {
            "tags": []
          }
        }
      ]
    },
    {
      "cell_type": "markdown",
      "metadata": {
        "id": "OVq2nOpIo0u9",
        "colab_type": "text"
      },
      "source": [
        "La probabilità di errore del I tipo per $K_2$ è \n",
        "$$\n",
        "\\Pr\\{ | T - 5 | \\ge 3 ; T \\sim Bi(10, \\theta = 1/2)\\} = \\Pr_{0.5}\\{T = 0,1,2,8,9,10\\} = 0.109375\n",
        "$$"
      ]
    },
    {
      "cell_type": "code",
      "metadata": {
        "id": "L5x0FMN9oTOJ",
        "colab_type": "code",
        "outputId": "a4de96ea-6543-40d9-9562-9e129e02c078",
        "colab": {
          "base_uri": "https://localhost:8080/",
          "height": 34
        }
      },
      "source": [
        "sum(dbinom(c(0,1,2,8,9,10), size = 10, prob = 1/2))"
      ],
      "execution_count": 9,
      "outputs": [
        {
          "output_type": "display_data",
          "data": {
            "text/plain": [
              "[1] 0.109375"
            ],
            "text/latex": "0.109375",
            "text/markdown": "0.109375",
            "text/html": [
              "0.109375"
            ]
          },
          "metadata": {
            "tags": []
          }
        }
      ]
    },
    {
      "cell_type": "markdown",
      "metadata": {
        "id": "IwCZy3AppAxL",
        "colab_type": "text"
      },
      "source": [
        "b. La probabilità di errore del II tipo se $\\theta = 0.4$ per $K_1$ è \n",
        "$$\n",
        "\\Pr\\{ | T - 5 | < 4 ; T \\sim Bi(10, \\theta = 0.4)\\} = \\Pr_{0.4}\\{T = 2,3,4,5,6,7,8\\} = 0.952\n",
        "$$"
      ]
    },
    {
      "cell_type": "code",
      "metadata": {
        "id": "BLK0bHIqot_t",
        "colab_type": "code",
        "outputId": "00757718-43c2-49e5-f1b9-cd664edda0cb",
        "colab": {
          "base_uri": "https://localhost:8080/",
          "height": 34
        }
      },
      "source": [
        "sum(dbinom(c(2,3,4,5,6,7,8), size = 10, prob = 0.4))"
      ],
      "execution_count": 10,
      "outputs": [
        {
          "output_type": "display_data",
          "data": {
            "text/plain": [
              "[1] 0.9519649"
            ],
            "text/latex": "0.9519648768",
            "text/markdown": "0.9519648768",
            "text/html": [
              "0.9519648768"
            ]
          },
          "metadata": {
            "tags": []
          }
        }
      ]
    },
    {
      "cell_type": "markdown",
      "metadata": {
        "id": "uCQlQFKFp0eE",
        "colab_type": "text"
      },
      "source": [
        "La probabilità di errore del II tipo se $\\theta = 0.4$ per $K_2$ è \n",
        "$$\n",
        "\\Pr\\{ | T - 5 | < 3 ; T \\sim Bi(10, \\theta = 0.4)\\} = \\Pr_{0.3}\\{T = 3,4,5,6,7\\} = 0.82\n",
        "$$"
      ]
    },
    {
      "cell_type": "code",
      "metadata": {
        "id": "PP0NaybMpsJm",
        "colab_type": "code",
        "outputId": "d26112a7-ad48-4b46-b0b1-102007b80c87",
        "colab": {
          "base_uri": "https://localhost:8080/",
          "height": 34
        }
      },
      "source": [
        "sum(dbinom(c(3,4,5,6,7), size = 10, prob = 0.4))"
      ],
      "execution_count": 11,
      "outputs": [
        {
          "output_type": "display_data",
          "data": {
            "text/plain": [
              "[1] 0.8204157"
            ],
            "text/latex": "0.8204156928",
            "text/markdown": "0.8204156928",
            "text/html": [
              "0.8204156928"
            ]
          },
          "metadata": {
            "tags": []
          }
        }
      ]
    },
    {
      "cell_type": "markdown",
      "metadata": {
        "id": "uRSufhZX1ox-",
        "colab_type": "text"
      },
      "source": [
        "# Commenti sulle risposte\n",
        "\n",
        "### Esercizio 1\n",
        "- Alcuni hanno fatto il test con un'alternativa bilaterale che comportanva un raddoppio del valore p. \n",
        "- Molto pochi hanno notato che con un campione di ampiezza 100 anche se la popolazione non ha distribuzione esattamente normale il teorema centrale del limite e il lemma di Slutsky permettono di approssimare la distribuzione campionaria della statistica T con una normale standard. Il p-value infatti cambia di poco. \n",
        "\n",
        "### Esercizio 2\n",
        "- Mi ha fatto piacere che abbiate fatto quasi tutti questo esercizio. \n",
        "- Mi è sembrato strano il fatto che molti non abbiano calacolato il p-value esattamente in R. \n",
        "\n",
        "## Esercizio 3 (Matematica) \n",
        "- L'anno fatto in pochi. La distribuzione campionaria del p-value è uniforme tra $(0,1)$. Questo vuol dire che se si rifiuta la nulla quando il p-value è minore di 0.05 ad esempio nel lungo andare la probabilità di errore del I tipo è al massimo 0.05.\n",
        "\n",
        "### Esercizio 4\n",
        "- Come sempre non molti si lanciano nel dare interpretazione sul coefficiente di regressione. Un commento che ho trovato interessante è che alcuni si sono concentrati sul fatto per certi valori del prezzo la quantità venduta diventava (estrapolando) negativa. Questo è un fatto che accade con ogni retta di regressione, se ci pensate. L'interpretazione del modello è per forza limitata nel range dei dati osservati e poco oltre. \n",
        "- C'è stato un errore preoccupante e cioè che varie persone hanno calcolato male l'errore standard del coefficiente di regressione come $S_{res}/\\sqrt{n}$ invece che \n",
        "$$\n",
        "\\frac{S_{res}}{\\sqrt{\\sum_i (x_i - \\bar x)^2}}\n",
        "$$\n",
        "Nella regressione conta anche la variabile esplicativa!\n",
        "- Vari errori a catena sono derivati da questo,  con la statistica F piccolissima. Alcuni hanno sbagliato anche il calcolo della F che doveva essere fatto partendo dalla scomposizione della devianza. \n",
        "\n",
        "### Esercizio 5 \n",
        "\n",
        "- Purtroppo  questo esercizio contenevs un errore di battitura. Naturalmente il testo riguardava solo la verifica dell'ipotesi $\\beta = 1$. Invece a un certo punto si parlava anche del test $\\beta = 0$. \n",
        "- Comunque direi che complessivamente ve la siete cavata molto bene.  \n",
        "- Solo qualcuno ha detto che la probabilità che $\\beta \\ne 0$ è maggiore di 0.95. Non si può parlare di probabilità dei parametri nell'inferenza frequentista!\n",
        "\n",
        "### Esercizio 6 (Informatica) \n",
        "\n",
        "- L'esercizio era interessante, specialmente perché dai dati sembra che il livello del mare a Venezia cresca col passare degli anni mentre probabilmente l'effetto è causato dall'abbassamento del terreno dove è fissato il palo che serve per misurare l'altezza dell'acqua. \n",
        "- Solo uno studente ha prodotto le tavole dei coefficienti e dell'analisi della varianza. Molto apprezzato.\n",
        "\n",
        "### Esercizio 7\n",
        "\n",
        "- Ci sono stati vari studenti che hanno calcolato male le probabilità a causa dell'errata definizione della regione critica. \n",
        "\n",
        "\n"
      ]
    }
  ]
}